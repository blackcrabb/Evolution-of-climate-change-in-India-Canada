{
  "nbformat": 4,
  "nbformat_minor": 0,
  "metadata": {
    "colab": {
      "name": "Evolution of Climate in India&Canada.ipynb",
      "provenance": [],
      "collapsed_sections": []
    },
    "kernelspec": {
      "name": "python3",
      "display_name": "Python 3"
    },
    "language_info": {
      "name": "python"
    }
  },
  "cells": [
    {
      "cell_type": "code",
      "metadata": {
        "colab": {
          "base_uri": "https://localhost:8080/"
        },
        "id": "n90e0k1YIOxA",
        "outputId": "7481d42d-15ff-46cc-9bec-fe8a9924dfff"
      },
      "source": [
        "import numpy as np  #importing numpy for numpy_array\n",
        "import pandas as pd  #Importing Pandas for reading CSV files\n",
        "import matplotlib.pyplot as plt  #importing matplotlib for plotting graphs \n",
        "import seaborn as sns  #importing seaborn for plotting heatmap\n",
        "from sklearn.model_selection import train_test_split  #importing sklearn for regression method\n",
        "from sklearn import preprocessing\n",
        "from sklearn.tree import DecisionTreeClassifier,export_text,export_graphviz\n",
        "import pydotplus\n",
        "from IPython.display import Image\n",
        "from sklearn.metrics import accuracy_score, confusion_matrix\n",
        "!pip install mlxtend --upgrade --no-deps\n",
        "from mlxtend.plotting import plot_confusion_matrix\n",
        "from sklearn.metrics import classification_report\n",
        "import seaborn as sns\n",
        "from sklearn.model_selection import cross_val_score\n",
        "from sklearn.naive_bayes import GaussianNB\n",
        "from sklearn.neighbors import KNeighborsClassifier\n",
        "%matplotlib inline"
      ],
      "execution_count": null,
      "outputs": [
        {
          "output_type": "stream",
          "text": [
            "Requirement already up-to-date: mlxtend in /usr/local/lib/python3.7/dist-packages (0.18.0)\n"
          ],
          "name": "stdout"
        }
      ]
    },
    {
      "cell_type": "markdown",
      "metadata": {
        "id": "r8fF1Q6i0VBu"
      },
      "source": [
        "# This is our World Map"
      ]
    },
    {
      "cell_type": "code",
      "metadata": {
        "colab": {
          "base_uri": "https://localhost:8080/",
          "height": 542
        },
        "id": "gs_uDUuI0aIO",
        "outputId": "2e12c1ad-5464-4690-e98b-0ebf2222f951"
      },
      "source": [
        "import plotly.graph_objs as go\n",
        "import plotly.tools as tls\n",
        "import plotly.offline as py\n",
        "data = [ dict(\n",
        "        type = 'choropleth',\n",
        "        locations = ['India'],\n",
        "        z = 24.66,\n",
        "        locationmode = 'country names',\n",
        "        text = ['India'],\n",
        "        marker = dict(\n",
        "            line = dict(color = 'rgb(20,20,0)', width = 1)),\n",
        "            colorbar = dict(autotick = True, tickprefix = '', \n",
        "            title = '# Average\\nTemperature,\\n°C')\n",
        "            )\n",
        "       ]\n",
        "\n",
        "  \n",
        "layout = dict(\n",
        "    title = 'World Map',\n",
        "    geo = dict(\n",
        "        showframe = False,\n",
        "        showocean = True,\n",
        "        oceancolor = 'rgb(0,255,255)',\n",
        "        projection = dict(\n",
        "        type = 'orthographic',\n",
        "            rotation = dict(\n",
        "                    lon = 20.5937,\n",
        "                    lat = 78.9629),\n",
        "        ),\n",
        "        lonaxis =  dict(\n",
        "                showgrid = True,\n",
        "                gridcolor = 'rgb(102, 102, 102)'\n",
        "            ),\n",
        "        lataxis = dict(\n",
        "                showgrid = True,\n",
        "                gridcolor = 'rgb(102, 102, 102)'\n",
        "                )\n",
        "            ),\n",
        "        )\n",
        "\n",
        "fig = dict(data=data, layout=layout)\n",
        "py.iplot(fig, validate=False, filename='worldmap')"
      ],
      "execution_count": null,
      "outputs": [
        {
          "output_type": "display_data",
          "data": {
            "text/html": [
              "<html>\n",
              "<head><meta charset=\"utf-8\" /></head>\n",
              "<body>\n",
              "    <div>\n",
              "            <script src=\"https://cdnjs.cloudflare.com/ajax/libs/mathjax/2.7.5/MathJax.js?config=TeX-AMS-MML_SVG\"></script><script type=\"text/javascript\">if (window.MathJax) {MathJax.Hub.Config({SVG: {font: \"STIX-Web\"}});}</script>\n",
              "                <script type=\"text/javascript\">window.PlotlyConfig = {MathJaxConfig: 'local'};</script>\n",
              "        <script src=\"https://cdn.plot.ly/plotly-latest.min.js\"></script>    \n",
              "            <div id=\"79c2ec21-8e99-444d-94e3-3e38845e874a\" class=\"plotly-graph-div\" style=\"height:525px; width:100%;\"></div>\n",
              "            <script type=\"text/javascript\">\n",
              "                \n",
              "                    window.PLOTLYENV=window.PLOTLYENV || {};\n",
              "                    \n",
              "                if (document.getElementById(\"79c2ec21-8e99-444d-94e3-3e38845e874a\")) {\n",
              "                    Plotly.newPlot(\n",
              "                        '79c2ec21-8e99-444d-94e3-3e38845e874a',\n",
              "                        [{\"colorbar\": {\"autotick\": true, \"tickprefix\": \"\", \"title\": \"# Average\\nTemperature,\\n\\u00b0C\"}, \"locationmode\": \"country names\", \"locations\": [\"India\"], \"marker\": {\"line\": {\"color\": \"rgb(20,20,0)\", \"width\": 1}}, \"text\": [\"India\"], \"type\": \"choropleth\", \"z\": 24.66}],\n",
              "                        {\"geo\": {\"lataxis\": {\"gridcolor\": \"rgb(102, 102, 102)\", \"showgrid\": true}, \"lonaxis\": {\"gridcolor\": \"rgb(102, 102, 102)\", \"showgrid\": true}, \"oceancolor\": \"rgb(0,255,255)\", \"projection\": {\"rotation\": {\"lat\": 78.9629, \"lon\": 20.5937}, \"type\": \"orthographic\"}, \"showframe\": false, \"showocean\": true}, \"title\": \"Average land temperature in India\"},\n",
              "                        {\"responsive\": true}\n",
              "                    ).then(function(){\n",
              "                            \n",
              "var gd = document.getElementById('79c2ec21-8e99-444d-94e3-3e38845e874a');\n",
              "var x = new MutationObserver(function (mutations, observer) {{\n",
              "        var display = window.getComputedStyle(gd).display;\n",
              "        if (!display || display === 'none') {{\n",
              "            console.log([gd, 'removed!']);\n",
              "            Plotly.purge(gd);\n",
              "            observer.disconnect();\n",
              "        }}\n",
              "}});\n",
              "\n",
              "// Listen for the removal of the full notebook cells\n",
              "var notebookContainer = gd.closest('#notebook-container');\n",
              "if (notebookContainer) {{\n",
              "    x.observe(notebookContainer, {childList: true});\n",
              "}}\n",
              "\n",
              "// Listen for the clearing of the current output cell\n",
              "var outputEl = gd.closest('.output');\n",
              "if (outputEl) {{\n",
              "    x.observe(outputEl, {childList: true});\n",
              "}}\n",
              "\n",
              "                        })\n",
              "                };\n",
              "                \n",
              "            </script>\n",
              "        </div>\n",
              "</body>\n",
              "</html>"
            ]
          },
          "metadata": {
            "tags": []
          }
        }
      ]
    },
    {
      "cell_type": "markdown",
      "metadata": {
        "id": "4rNMY2N_TaXp"
      },
      "source": [
        "\n",
        "## Climate change includes both global warming driven by human-induced emissions of greenhouse gases and the resulting large-scale shifts in weather patterns. Though there have been previous periods of climatic change, since the mid-20th century humans have had an unprecedented impact on Earth's climate system and caused change on a global scale.\n",
        "\n",
        "## We are mining the data to see the pattern between **Canada** and **India** of how **climate change** has evolved before **COVID** and after **COVID**\n",
        "\n",
        "## Data Source: https://climateknowledgeportal.worldbank.org/"
      ]
    },
    {
      "cell_type": "code",
      "metadata": {
        "id": "HoV6hZ_DQpWr"
      },
      "source": [
        "canada_df = pd.read_csv('tas_1991_2020_CAN.csv')\n"
      ],
      "execution_count": null,
      "outputs": []
    },
    {
      "cell_type": "markdown",
      "metadata": {
        "id": "ZJh_yOvUYnZ9"
      },
      "source": [
        "# Canada Dataset"
      ]
    },
    {
      "cell_type": "code",
      "metadata": {
        "colab": {
          "base_uri": "https://localhost:8080/",
          "height": 195
        },
        "id": "v17t2wguYlPE",
        "outputId": "ea1754c2-6f7b-4dff-fb0d-4ba3cda38c68"
      },
      "source": [
        "canada_df.head()"
      ],
      "execution_count": null,
      "outputs": [
        {
          "output_type": "execute_result",
          "data": {
            "text/html": [
              "<div>\n",
              "<style scoped>\n",
              "    .dataframe tbody tr th:only-of-type {\n",
              "        vertical-align: middle;\n",
              "    }\n",
              "\n",
              "    .dataframe tbody tr th {\n",
              "        vertical-align: top;\n",
              "    }\n",
              "\n",
              "    .dataframe thead th {\n",
              "        text-align: right;\n",
              "    }\n",
              "</style>\n",
              "<table border=\"1\" class=\"dataframe\">\n",
              "  <thead>\n",
              "    <tr style=\"text-align: right;\">\n",
              "      <th></th>\n",
              "      <th>Temperature - (Celsius)</th>\n",
              "      <th>Year</th>\n",
              "      <th>Statistics</th>\n",
              "      <th>Country</th>\n",
              "      <th>ISO3</th>\n",
              "    </tr>\n",
              "  </thead>\n",
              "  <tbody>\n",
              "    <tr>\n",
              "      <th>0</th>\n",
              "      <td>-26.2</td>\n",
              "      <td>1991</td>\n",
              "      <td>Jan Average</td>\n",
              "      <td>Canada</td>\n",
              "      <td>CAN</td>\n",
              "    </tr>\n",
              "    <tr>\n",
              "      <th>1</th>\n",
              "      <td>-21.0</td>\n",
              "      <td>1991</td>\n",
              "      <td>Feb Average</td>\n",
              "      <td>Canada</td>\n",
              "      <td>CAN</td>\n",
              "    </tr>\n",
              "    <tr>\n",
              "      <th>2</th>\n",
              "      <td>-18.2</td>\n",
              "      <td>1991</td>\n",
              "      <td>Mar Average</td>\n",
              "      <td>Canada</td>\n",
              "      <td>CAN</td>\n",
              "    </tr>\n",
              "    <tr>\n",
              "      <th>3</th>\n",
              "      <td>-8.6</td>\n",
              "      <td>1991</td>\n",
              "      <td>Apr Average</td>\n",
              "      <td>Canada</td>\n",
              "      <td>CAN</td>\n",
              "    </tr>\n",
              "    <tr>\n",
              "      <th>4</th>\n",
              "      <td>0.8</td>\n",
              "      <td>1991</td>\n",
              "      <td>May Average</td>\n",
              "      <td>Canada</td>\n",
              "      <td>CAN</td>\n",
              "    </tr>\n",
              "  </tbody>\n",
              "</table>\n",
              "</div>"
            ],
            "text/plain": [
              "   Temperature - (Celsius)   Year    Statistics  Country  ISO3\n",
              "0                    -26.2   1991   Jan Average   Canada   CAN\n",
              "1                    -21.0   1991   Feb Average   Canada   CAN\n",
              "2                    -18.2   1991   Mar Average   Canada   CAN\n",
              "3                     -8.6   1991   Apr Average   Canada   CAN\n",
              "4                      0.8   1991   May Average   Canada   CAN"
            ]
          },
          "metadata": {
            "tags": []
          },
          "execution_count": 15
        }
      ]
    },
    {
      "cell_type": "code",
      "metadata": {
        "colab": {
          "base_uri": "https://localhost:8080/",
          "height": 282
        },
        "id": "mvO0Q3FYSP5B",
        "outputId": "a43d7b60-b221-4bdd-cc3e-ba66eda5ab86"
      },
      "source": [
        "canada_df['Temperature - (Celsius)'].hist()"
      ],
      "execution_count": null,
      "outputs": [
        {
          "output_type": "execute_result",
          "data": {
            "text/plain": [
              "<matplotlib.axes._subplots.AxesSubplot at 0x7fec2c9eae90>"
            ]
          },
          "metadata": {
            "tags": []
          },
          "execution_count": 16
        },
        {
          "output_type": "display_data",
          "data": {
            "image/png": "[encoded data removed]",
            "text/plain": [
              "<Figure size 432x288 with 1 Axes>"
            ]
          },
          "metadata": {
            "tags": [],
            "needs_background": "light"
          }
        }
      ]
    },
    {
      "cell_type": "code",
      "metadata": {
        "colab": {
          "base_uri": "https://localhost:8080/",
          "height": 284
        },
        "id": "uxInvuhdTNMG",
        "outputId": "6b46c0b8-dbe7-4394-c036-1945783f893d"
      },
      "source": [
        "canada_df.describe()"
      ],
      "execution_count": null,
      "outputs": [
        {
          "output_type": "execute_result",
          "data": {
            "text/html": [
              "<div>\n",
              "<style scoped>\n",
              "    .dataframe tbody tr th:only-of-type {\n",
              "        vertical-align: middle;\n",
              "    }\n",
              "\n",
              "    .dataframe tbody tr th {\n",
              "        vertical-align: top;\n",
              "    }\n",
              "\n",
              "    .dataframe thead th {\n",
              "        text-align: right;\n",
              "    }\n",
              "</style>\n",
              "<table border=\"1\" class=\"dataframe\">\n",
              "  <thead>\n",
              "    <tr style=\"text-align: right;\">\n",
              "      <th></th>\n",
              "      <th>Temperature - (Celsius)</th>\n",
              "      <th>Year</th>\n",
              "    </tr>\n",
              "  </thead>\n",
              "  <tbody>\n",
              "    <tr>\n",
              "      <th>count</th>\n",
              "      <td>360.000000</td>\n",
              "      <td>360.000000</td>\n",
              "    </tr>\n",
              "    <tr>\n",
              "      <th>mean</th>\n",
              "      <td>-6.360556</td>\n",
              "      <td>2005.500000</td>\n",
              "    </tr>\n",
              "    <tr>\n",
              "      <th>std</th>\n",
              "      <td>12.576983</td>\n",
              "      <td>8.667488</td>\n",
              "    </tr>\n",
              "    <tr>\n",
              "      <th>min</th>\n",
              "      <td>-27.600000</td>\n",
              "      <td>1991.000000</td>\n",
              "    </tr>\n",
              "    <tr>\n",
              "      <th>25%</th>\n",
              "      <td>-18.700000</td>\n",
              "      <td>1998.000000</td>\n",
              "    </tr>\n",
              "    <tr>\n",
              "      <th>50%</th>\n",
              "      <td>-5.800000</td>\n",
              "      <td>2005.500000</td>\n",
              "    </tr>\n",
              "    <tr>\n",
              "      <th>75%</th>\n",
              "      <td>5.800000</td>\n",
              "      <td>2013.000000</td>\n",
              "    </tr>\n",
              "    <tr>\n",
              "      <th>max</th>\n",
              "      <td>12.800000</td>\n",
              "      <td>2020.000000</td>\n",
              "    </tr>\n",
              "  </tbody>\n",
              "</table>\n",
              "</div>"
            ],
            "text/plain": [
              "       Temperature - (Celsius)         Year\n",
              "count               360.000000   360.000000\n",
              "mean                 -6.360556  2005.500000\n",
              "std                  12.576983     8.667488\n",
              "min                 -27.600000  1991.000000\n",
              "25%                 -18.700000  1998.000000\n",
              "50%                  -5.800000  2005.500000\n",
              "75%                   5.800000  2013.000000\n",
              "max                  12.800000  2020.000000"
            ]
          },
          "metadata": {
            "tags": []
          },
          "execution_count": 17
        }
      ]
    },
    {
      "cell_type": "code",
      "metadata": {
        "colab": {
          "base_uri": "https://localhost:8080/",
          "height": 211
        },
        "id": "kdYom9EZTS9K",
        "outputId": "fd2ce08d-37ca-496c-9039-b5149a9e6a2d"
      },
      "source": [
        "fig = plt.figure(figsize = (10, 3))\n",
        "plt.plot(canada_df[' Year'], canada_df['Temperature - (Celsius)'])\n",
        "plt.show()"
      ],
      "execution_count": null,
      "outputs": [
        {
          "output_type": "display_data",
          "data": {
            "image/png": "[encoded data removed]",
            "text/plain": [
              "<Figure size 720x216 with 1 Axes>"
            ]
          },
          "metadata": {
            "tags": [],
            "needs_background": "light"
          }
        }
      ]
    },
    {
      "cell_type": "code",
      "metadata": {
        "colab": {
          "base_uri": "https://localhost:8080/",
          "height": 311
        },
        "id": "u__mKSVJfIs1",
        "outputId": "ecd3b751-ec1a-4e87-87ef-bd0cd6f991cc"
      },
      "source": [
        "fig = plt.figure(figsize = (10, 3))\n",
        "axes = fig.add_axes([0, 0, 1, 1])\n",
        "axes.plot(canada_df['Temperature - (Celsius)'], data = canada_df, color = 'y')\n",
        "axes.plot(canada_df[' Year'], data = canada_df, color = 'r')\n",
        "axes.plot(canada_df[' Statistics'], data = canada_df, color = 'b')\n",
        "axes.set_title('Line Plot visualization of multivariate time series')\n",
        "axes.set_xlabel('Row no')\n",
        "axes.set_ylabel('Val')"
      ],
      "execution_count": null,
      "outputs": [
        {
          "output_type": "execute_result",
          "data": {
            "text/plain": [
              "Text(0, 0.5, 'Val')"
            ]
          },
          "metadata": {
            "tags": []
          },
          "execution_count": 19
        },
        {
          "output_type": "display_data",
          "data": {
            "image/png": "[encoded data removed]",
            "text/plain": [
              "<Figure size 720x216 with 1 Axes>"
            ]
          },
          "metadata": {
            "tags": [],
            "needs_background": "light"
          }
        }
      ]
    },
    {
      "cell_type": "code",
      "metadata": {
        "colab": {
          "base_uri": "https://localhost:8080/",
          "height": 279
        },
        "id": "7cMJEG9Zfy1-",
        "outputId": "989cb87b-86eb-4fa4-b780-7cd3e491e308"
      },
      "source": [
        "canada_df.head().plot.bar()"
      ],
      "execution_count": null,
      "outputs": [
        {
          "output_type": "execute_result",
          "data": {
            "text/plain": [
              "<matplotlib.axes._subplots.AxesSubplot at 0x7fec2c90c150>"
            ]
          },
          "metadata": {
            "tags": []
          },
          "execution_count": 20
        },
        {
          "output_type": "display_data",
          "data": {
            "image/png": "[encoded data removed]",
            "text/plain": [
              "<Figure size 432x288 with 1 Axes>"
            ]
          },
          "metadata": {
            "tags": [],
            "needs_background": "light"
          }
        }
      ]
    },
    {
      "cell_type": "code",
      "metadata": {
        "colab": {
          "base_uri": "https://localhost:8080/",
          "height": 296
        },
        "id": "Dt_TTgnrkwim",
        "outputId": "debe8fb8-3088-4cfc-c543-53ae0839b0a7"
      },
      "source": [
        "canada_df.plot(x=' Statistics',y='Temperature - (Celsius)')"
      ],
      "execution_count": null,
      "outputs": [
        {
          "output_type": "execute_result",
          "data": {
            "text/plain": [
              "<matplotlib.axes._subplots.AxesSubplot at 0x7fec2c7b5b90>"
            ]
          },
          "metadata": {
            "tags": []
          },
          "execution_count": 21
        },
        {
          "output_type": "display_data",
          "data": {
            "image/png": "[encoded data removed]",
            "text/plain": [
              "<Figure size 432x288 with 1 Axes>"
            ]
          },
          "metadata": {
            "tags": [],
            "needs_background": "light"
          }
        }
      ]
    },
    {
      "cell_type": "markdown",
      "metadata": {
        "id": "RVC3svo1Z3Zs"
      },
      "source": [
        "# BEFORE COVID"
      ]
    },
    {
      "cell_type": "code",
      "metadata": {
        "id": "UoAb6HMaoA4S"
      },
      "source": [
        "canada_df[' Year'] = canada_df[' Year'].astype(int)"
      ],
      "execution_count": null,
      "outputs": []
    },
    {
      "cell_type": "code",
      "metadata": {
        "colab": {
          "base_uri": "https://localhost:8080/",
          "height": 402
        },
        "id": "tV-0tp6MoXGl",
        "outputId": "43db5591-1c56-473e-ea4b-93d613318291"
      },
      "source": [
        "newdf = canada_df[canada_df[' Year']== 2019]\n",
        "newdf"
      ],
      "execution_count": null,
      "outputs": [
        {
          "output_type": "execute_result",
          "data": {
            "text/html": [
              "<div>\n",
              "<style scoped>\n",
              "    .dataframe tbody tr th:only-of-type {\n",
              "        vertical-align: middle;\n",
              "    }\n",
              "\n",
              "    .dataframe tbody tr th {\n",
              "        vertical-align: top;\n",
              "    }\n",
              "\n",
              "    .dataframe thead th {\n",
              "        text-align: right;\n",
              "    }\n",
              "</style>\n",
              "<table border=\"1\" class=\"dataframe\">\n",
              "  <thead>\n",
              "    <tr style=\"text-align: right;\">\n",
              "      <th></th>\n",
              "      <th>Temperature - (Celsius)</th>\n",
              "      <th>Year</th>\n",
              "      <th>Statistics</th>\n",
              "      <th>Country</th>\n",
              "      <th>ISO3</th>\n",
              "    </tr>\n",
              "  </thead>\n",
              "  <tbody>\n",
              "    <tr>\n",
              "      <th>336</th>\n",
              "      <td>-23.9</td>\n",
              "      <td>2019</td>\n",
              "      <td>Jan Average</td>\n",
              "      <td>Canada</td>\n",
              "      <td>CAN</td>\n",
              "    </tr>\n",
              "    <tr>\n",
              "      <th>337</th>\n",
              "      <td>-25.1</td>\n",
              "      <td>2019</td>\n",
              "      <td>Feb Average</td>\n",
              "      <td>Canada</td>\n",
              "      <td>CAN</td>\n",
              "    </tr>\n",
              "    <tr>\n",
              "      <th>338</th>\n",
              "      <td>-17.1</td>\n",
              "      <td>2019</td>\n",
              "      <td>Mar Average</td>\n",
              "      <td>Canada</td>\n",
              "      <td>CAN</td>\n",
              "    </tr>\n",
              "    <tr>\n",
              "      <th>339</th>\n",
              "      <td>-9.6</td>\n",
              "      <td>2019</td>\n",
              "      <td>Apr Average</td>\n",
              "      <td>Canada</td>\n",
              "      <td>CAN</td>\n",
              "    </tr>\n",
              "    <tr>\n",
              "      <th>340</th>\n",
              "      <td>-0.2</td>\n",
              "      <td>2019</td>\n",
              "      <td>May Average</td>\n",
              "      <td>Canada</td>\n",
              "      <td>CAN</td>\n",
              "    </tr>\n",
              "    <tr>\n",
              "      <th>341</th>\n",
              "      <td>7.3</td>\n",
              "      <td>2019</td>\n",
              "      <td>Jun Average</td>\n",
              "      <td>Canada</td>\n",
              "      <td>CAN</td>\n",
              "    </tr>\n",
              "    <tr>\n",
              "      <th>342</th>\n",
              "      <td>11.4</td>\n",
              "      <td>2019</td>\n",
              "      <td>Jul Average</td>\n",
              "      <td>Canada</td>\n",
              "      <td>CAN</td>\n",
              "    </tr>\n",
              "    <tr>\n",
              "      <th>343</th>\n",
              "      <td>9.5</td>\n",
              "      <td>2019</td>\n",
              "      <td>Aug Average</td>\n",
              "      <td>Canada</td>\n",
              "      <td>CAN</td>\n",
              "    </tr>\n",
              "    <tr>\n",
              "      <th>344</th>\n",
              "      <td>4.2</td>\n",
              "      <td>2019</td>\n",
              "      <td>Sep Average</td>\n",
              "      <td>Canada</td>\n",
              "      <td>CAN</td>\n",
              "    </tr>\n",
              "    <tr>\n",
              "      <th>345</th>\n",
              "      <td>-4.1</td>\n",
              "      <td>2019</td>\n",
              "      <td>Oct Average</td>\n",
              "      <td>Canada</td>\n",
              "      <td>CAN</td>\n",
              "    </tr>\n",
              "    <tr>\n",
              "      <th>346</th>\n",
              "      <td>-13.6</td>\n",
              "      <td>2019</td>\n",
              "      <td>Nov Average</td>\n",
              "      <td>Canada</td>\n",
              "      <td>CAN</td>\n",
              "    </tr>\n",
              "    <tr>\n",
              "      <th>347</th>\n",
              "      <td>-19.7</td>\n",
              "      <td>2019</td>\n",
              "      <td>Dec Average</td>\n",
              "      <td>Canada</td>\n",
              "      <td>CAN</td>\n",
              "    </tr>\n",
              "  </tbody>\n",
              "</table>\n",
              "</div>"
            ],
            "text/plain": [
              "     Temperature - (Celsius)   Year    Statistics  Country  ISO3\n",
              "336                    -23.9   2019   Jan Average   Canada   CAN\n",
              "337                    -25.1   2019   Feb Average   Canada   CAN\n",
              "338                    -17.1   2019   Mar Average   Canada   CAN\n",
              "339                     -9.6   2019   Apr Average   Canada   CAN\n",
              "340                     -0.2   2019   May Average   Canada   CAN\n",
              "341                      7.3   2019   Jun Average   Canada   CAN\n",
              "342                     11.4   2019   Jul Average   Canada   CAN\n",
              "343                      9.5   2019   Aug Average   Canada   CAN\n",
              "344                      4.2   2019   Sep Average   Canada   CAN\n",
              "345                     -4.1   2019   Oct Average   Canada   CAN\n",
              "346                    -13.6   2019   Nov Average   Canada   CAN\n",
              "347                    -19.7   2019   Dec Average   Canada   CAN"
            ]
          },
          "metadata": {
            "tags": []
          },
          "execution_count": 23
        }
      ]
    },
    {
      "cell_type": "code",
      "metadata": {
        "colab": {
          "base_uri": "https://localhost:8080/",
          "height": 296
        },
        "id": "3zU-vjMqpJ1d",
        "outputId": "9a41aead-7fa1-4200-c1fd-1027c98bea97"
      },
      "source": [
        "newdf.plot(x=' Statistics',y='Temperature - (Celsius)')"
      ],
      "execution_count": null,
      "outputs": [
        {
          "output_type": "execute_result",
          "data": {
            "text/plain": [
              "<matplotlib.axes._subplots.AxesSubplot at 0x7fec2c4a45d0>"
            ]
          },
          "metadata": {
            "tags": []
          },
          "execution_count": 24
        },
        {
          "output_type": "display_data",
          "data": {
            "image/png": "[encoded data removed]",
            "text/plain": [
              "<Figure size 432x288 with 1 Axes>"
            ]
          },
          "metadata": {
            "tags": [],
            "needs_background": "light"
          }
        }
      ]
    },
    {
      "cell_type": "markdown",
      "metadata": {
        "id": "ksRFYhW0pU2Z"
      },
      "source": [
        "# AFTER COVID"
      ]
    },
    {
      "cell_type": "code",
      "metadata": {
        "colab": {
          "base_uri": "https://localhost:8080/",
          "height": 402
        },
        "id": "DAVyU0XkpXP3",
        "outputId": "f17b6a92-860e-4e2d-c6e7-47e1d221db39"
      },
      "source": [
        "newcovidf = canada_df[canada_df[' Year']== 2020]\n",
        "newcovidf"
      ],
      "execution_count": null,
      "outputs": [
        {
          "output_type": "execute_result",
          "data": {
            "text/html": [
              "<div>\n",
              "<style scoped>\n",
              "    .dataframe tbody tr th:only-of-type {\n",
              "        vertical-align: middle;\n",
              "    }\n",
              "\n",
              "    .dataframe tbody tr th {\n",
              "        vertical-align: top;\n",
              "    }\n",
              "\n",
              "    .dataframe thead th {\n",
              "        text-align: right;\n",
              "    }\n",
              "</style>\n",
              "<table border=\"1\" class=\"dataframe\">\n",
              "  <thead>\n",
              "    <tr style=\"text-align: right;\">\n",
              "      <th></th>\n",
              "      <th>Temperature - (Celsius)</th>\n",
              "      <th>Year</th>\n",
              "      <th>Statistics</th>\n",
              "      <th>Country</th>\n",
              "      <th>ISO3</th>\n",
              "    </tr>\n",
              "  </thead>\n",
              "  <tbody>\n",
              "    <tr>\n",
              "      <th>348</th>\n",
              "      <td>-22.9</td>\n",
              "      <td>2020</td>\n",
              "      <td>Jan Average</td>\n",
              "      <td>Canada</td>\n",
              "      <td>CAN</td>\n",
              "    </tr>\n",
              "    <tr>\n",
              "      <th>349</th>\n",
              "      <td>-22.5</td>\n",
              "      <td>2020</td>\n",
              "      <td>Feb Average</td>\n",
              "      <td>Canada</td>\n",
              "      <td>CAN</td>\n",
              "    </tr>\n",
              "    <tr>\n",
              "      <th>350</th>\n",
              "      <td>-18.7</td>\n",
              "      <td>2020</td>\n",
              "      <td>Mar Average</td>\n",
              "      <td>Canada</td>\n",
              "      <td>CAN</td>\n",
              "    </tr>\n",
              "    <tr>\n",
              "      <th>351</th>\n",
              "      <td>-10.5</td>\n",
              "      <td>2020</td>\n",
              "      <td>Apr Average</td>\n",
              "      <td>Canada</td>\n",
              "      <td>CAN</td>\n",
              "    </tr>\n",
              "    <tr>\n",
              "      <th>352</th>\n",
              "      <td>-0.8</td>\n",
              "      <td>2020</td>\n",
              "      <td>May Average</td>\n",
              "      <td>Canada</td>\n",
              "      <td>CAN</td>\n",
              "    </tr>\n",
              "    <tr>\n",
              "      <th>353</th>\n",
              "      <td>7.7</td>\n",
              "      <td>2020</td>\n",
              "      <td>Jun Average</td>\n",
              "      <td>Canada</td>\n",
              "      <td>CAN</td>\n",
              "    </tr>\n",
              "    <tr>\n",
              "      <th>354</th>\n",
              "      <td>11.9</td>\n",
              "      <td>2020</td>\n",
              "      <td>Jul Average</td>\n",
              "      <td>Canada</td>\n",
              "      <td>CAN</td>\n",
              "    </tr>\n",
              "    <tr>\n",
              "      <th>355</th>\n",
              "      <td>10.2</td>\n",
              "      <td>2020</td>\n",
              "      <td>Aug Average</td>\n",
              "      <td>Canada</td>\n",
              "      <td>CAN</td>\n",
              "    </tr>\n",
              "    <tr>\n",
              "      <th>356</th>\n",
              "      <td>3.7</td>\n",
              "      <td>2020</td>\n",
              "      <td>Sep Average</td>\n",
              "      <td>Canada</td>\n",
              "      <td>CAN</td>\n",
              "    </tr>\n",
              "    <tr>\n",
              "      <th>357</th>\n",
              "      <td>-5.4</td>\n",
              "      <td>2020</td>\n",
              "      <td>Oct Average</td>\n",
              "      <td>Canada</td>\n",
              "      <td>CAN</td>\n",
              "    </tr>\n",
              "    <tr>\n",
              "      <th>358</th>\n",
              "      <td>-14.4</td>\n",
              "      <td>2020</td>\n",
              "      <td>Nov Average</td>\n",
              "      <td>Canada</td>\n",
              "      <td>CAN</td>\n",
              "    </tr>\n",
              "    <tr>\n",
              "      <th>359</th>\n",
              "      <td>-18.3</td>\n",
              "      <td>2020</td>\n",
              "      <td>Dec Average</td>\n",
              "      <td>Canada</td>\n",
              "      <td>CAN</td>\n",
              "    </tr>\n",
              "  </tbody>\n",
              "</table>\n",
              "</div>"
            ],
            "text/plain": [
              "     Temperature - (Celsius)   Year    Statistics  Country  ISO3\n",
              "348                    -22.9   2020   Jan Average   Canada   CAN\n",
              "349                    -22.5   2020   Feb Average   Canada   CAN\n",
              "350                    -18.7   2020   Mar Average   Canada   CAN\n",
              "351                    -10.5   2020   Apr Average   Canada   CAN\n",
              "352                     -0.8   2020   May Average   Canada   CAN\n",
              "353                      7.7   2020   Jun Average   Canada   CAN\n",
              "354                     11.9   2020   Jul Average   Canada   CAN\n",
              "355                     10.2   2020   Aug Average   Canada   CAN\n",
              "356                      3.7   2020   Sep Average   Canada   CAN\n",
              "357                     -5.4   2020   Oct Average   Canada   CAN\n",
              "358                    -14.4   2020   Nov Average   Canada   CAN\n",
              "359                    -18.3   2020   Dec Average   Canada   CAN"
            ]
          },
          "metadata": {
            "tags": []
          },
          "execution_count": 25
        }
      ]
    },
    {
      "cell_type": "code",
      "metadata": {
        "colab": {
          "base_uri": "https://localhost:8080/",
          "height": 296
        },
        "id": "6UN5hDi-pef5",
        "outputId": "44ea0ea9-2d6c-4b41-dc9c-4993f22fe7a8"
      },
      "source": [
        "newcovidf.plot(x=' Statistics',y='Temperature - (Celsius)')"
      ],
      "execution_count": null,
      "outputs": [
        {
          "output_type": "execute_result",
          "data": {
            "text/plain": [
              "<matplotlib.axes._subplots.AxesSubplot at 0x7fec2c41f590>"
            ]
          },
          "metadata": {
            "tags": []
          },
          "execution_count": 26
        },
        {
          "output_type": "display_data",
          "data": {
            "image/png": "[encoded data removed]",
            "text/plain": [
              "<Figure size 432x288 with 1 Axes>"
            ]
          },
          "metadata": {
            "tags": [],
            "needs_background": "light"
          }
        }
      ]
    },
    {
      "cell_type": "markdown",
      "metadata": {
        "id": "XVKOQpQiptjN"
      },
      "source": [
        "#  India Dataset"
      ]
    },
    {
      "cell_type": "code",
      "metadata": {
        "colab": {
          "base_uri": "https://localhost:8080/",
          "height": 402
        },
        "id": "L2CnGcY0p07f",
        "outputId": "391f3f5f-7ef1-47f7-b124-15b561653a88"
      },
      "source": [
        "india_df = pd.read_csv('tas_1991_2020_IND.csv')\n",
        "india_df"
      ],
      "execution_count": null,
      "outputs": [
        {
          "output_type": "execute_result",
          "data": {
            "text/html": [
              "<div>\n",
              "<style scoped>\n",
              "    .dataframe tbody tr th:only-of-type {\n",
              "        vertical-align: middle;\n",
              "    }\n",
              "\n",
              "    .dataframe tbody tr th {\n",
              "        vertical-align: top;\n",
              "    }\n",
              "\n",
              "    .dataframe thead th {\n",
              "        text-align: right;\n",
              "    }\n",
              "</style>\n",
              "<table border=\"1\" class=\"dataframe\">\n",
              "  <thead>\n",
              "    <tr style=\"text-align: right;\">\n",
              "      <th></th>\n",
              "      <th>Temperature - (Celsius)</th>\n",
              "      <th>Year</th>\n",
              "      <th>Statistics</th>\n",
              "      <th>Country</th>\n",
              "      <th>ISO3</th>\n",
              "    </tr>\n",
              "  </thead>\n",
              "  <tbody>\n",
              "    <tr>\n",
              "      <th>0</th>\n",
              "      <td>16.8</td>\n",
              "      <td>1991</td>\n",
              "      <td>Jan Average</td>\n",
              "      <td>India</td>\n",
              "      <td>IND</td>\n",
              "    </tr>\n",
              "    <tr>\n",
              "      <th>1</th>\n",
              "      <td>20.1</td>\n",
              "      <td>1991</td>\n",
              "      <td>Feb Average</td>\n",
              "      <td>India</td>\n",
              "      <td>IND</td>\n",
              "    </tr>\n",
              "    <tr>\n",
              "      <th>2</th>\n",
              "      <td>24.3</td>\n",
              "      <td>1991</td>\n",
              "      <td>Mar Average</td>\n",
              "      <td>India</td>\n",
              "      <td>IND</td>\n",
              "    </tr>\n",
              "    <tr>\n",
              "      <th>3</th>\n",
              "      <td>27.5</td>\n",
              "      <td>1991</td>\n",
              "      <td>Apr Average</td>\n",
              "      <td>India</td>\n",
              "      <td>IND</td>\n",
              "    </tr>\n",
              "    <tr>\n",
              "      <th>4</th>\n",
              "      <td>30.2</td>\n",
              "      <td>1991</td>\n",
              "      <td>May Average</td>\n",
              "      <td>India</td>\n",
              "      <td>IND</td>\n",
              "    </tr>\n",
              "    <tr>\n",
              "      <th>...</th>\n",
              "      <td>...</td>\n",
              "      <td>...</td>\n",
              "      <td>...</td>\n",
              "      <td>...</td>\n",
              "      <td>...</td>\n",
              "    </tr>\n",
              "    <tr>\n",
              "      <th>355</th>\n",
              "      <td>27.0</td>\n",
              "      <td>2020</td>\n",
              "      <td>Aug Average</td>\n",
              "      <td>India</td>\n",
              "      <td>IND</td>\n",
              "    </tr>\n",
              "    <tr>\n",
              "      <th>356</th>\n",
              "      <td>27.3</td>\n",
              "      <td>2020</td>\n",
              "      <td>Sep Average</td>\n",
              "      <td>India</td>\n",
              "      <td>IND</td>\n",
              "    </tr>\n",
              "    <tr>\n",
              "      <th>357</th>\n",
              "      <td>25.9</td>\n",
              "      <td>2020</td>\n",
              "      <td>Oct Average</td>\n",
              "      <td>India</td>\n",
              "      <td>IND</td>\n",
              "    </tr>\n",
              "    <tr>\n",
              "      <th>358</th>\n",
              "      <td>21.4</td>\n",
              "      <td>2020</td>\n",
              "      <td>Nov Average</td>\n",
              "      <td>India</td>\n",
              "      <td>IND</td>\n",
              "    </tr>\n",
              "    <tr>\n",
              "      <th>359</th>\n",
              "      <td>18.4</td>\n",
              "      <td>2020</td>\n",
              "      <td>Dec Average</td>\n",
              "      <td>India</td>\n",
              "      <td>IND</td>\n",
              "    </tr>\n",
              "  </tbody>\n",
              "</table>\n",
              "<p>360 rows × 5 columns</p>\n",
              "</div>"
            ],
            "text/plain": [
              "     Temperature - (Celsius)   Year    Statistics  Country  ISO3\n",
              "0                       16.8   1991   Jan Average    India   IND\n",
              "1                       20.1   1991   Feb Average    India   IND\n",
              "2                       24.3   1991   Mar Average    India   IND\n",
              "3                       27.5   1991   Apr Average    India   IND\n",
              "4                       30.2   1991   May Average    India   IND\n",
              "..                       ...    ...           ...      ...   ...\n",
              "355                     27.0   2020   Aug Average    India   IND\n",
              "356                     27.3   2020   Sep Average    India   IND\n",
              "357                     25.9   2020   Oct Average    India   IND\n",
              "358                     21.4   2020   Nov Average    India   IND\n",
              "359                     18.4   2020   Dec Average    India   IND\n",
              "\n",
              "[360 rows x 5 columns]"
            ]
          },
          "metadata": {
            "tags": []
          },
          "execution_count": 27
        }
      ]
    },
    {
      "cell_type": "code",
      "metadata": {
        "colab": {
          "base_uri": "https://localhost:8080/",
          "height": 282
        },
        "id": "GS6Dq_MsqVMO",
        "outputId": "5295e3e2-04c7-4083-e762-89cb8b917bea"
      },
      "source": [
        "india_df['Temperature - (Celsius)'].hist()"
      ],
      "execution_count": null,
      "outputs": [
        {
          "output_type": "execute_result",
          "data": {
            "text/plain": [
              "<matplotlib.axes._subplots.AxesSubplot at 0x7fec2c413cd0>"
            ]
          },
          "metadata": {
            "tags": []
          },
          "execution_count": 28
        },
        {
          "output_type": "display_data",
          "data": {
            "image/png": "[encoded data removed]",
            "text/plain": [
              "<Figure size 432x288 with 1 Axes>"
            ]
          },
          "metadata": {
            "tags": [],
            "needs_background": "light"
          }
        }
      ]
    },
    {
      "cell_type": "code",
      "metadata": {
        "colab": {
          "base_uri": "https://localhost:8080/",
          "height": 284
        },
        "id": "GjKHk77Kqcen",
        "outputId": "2956f6a3-ca99-4873-b6b0-cbdb61fa24e4"
      },
      "source": [
        "india_df.describe()"
      ],
      "execution_count": null,
      "outputs": [
        {
          "output_type": "execute_result",
          "data": {
            "text/html": [
              "<div>\n",
              "<style scoped>\n",
              "    .dataframe tbody tr th:only-of-type {\n",
              "        vertical-align: middle;\n",
              "    }\n",
              "\n",
              "    .dataframe tbody tr th {\n",
              "        vertical-align: top;\n",
              "    }\n",
              "\n",
              "    .dataframe thead th {\n",
              "        text-align: right;\n",
              "    }\n",
              "</style>\n",
              "<table border=\"1\" class=\"dataframe\">\n",
              "  <thead>\n",
              "    <tr style=\"text-align: right;\">\n",
              "      <th></th>\n",
              "      <th>Temperature - (Celsius)</th>\n",
              "      <th>Year</th>\n",
              "    </tr>\n",
              "  </thead>\n",
              "  <tbody>\n",
              "    <tr>\n",
              "      <th>count</th>\n",
              "      <td>360.000000</td>\n",
              "      <td>360.000000</td>\n",
              "    </tr>\n",
              "    <tr>\n",
              "      <th>mean</th>\n",
              "      <td>24.681667</td>\n",
              "      <td>2005.500000</td>\n",
              "    </tr>\n",
              "    <tr>\n",
              "      <th>std</th>\n",
              "      <td>4.182854</td>\n",
              "      <td>8.667488</td>\n",
              "    </tr>\n",
              "    <tr>\n",
              "      <th>min</th>\n",
              "      <td>16.300000</td>\n",
              "      <td>1991.000000</td>\n",
              "    </tr>\n",
              "    <tr>\n",
              "      <th>25%</th>\n",
              "      <td>21.100000</td>\n",
              "      <td>1998.000000</td>\n",
              "    </tr>\n",
              "    <tr>\n",
              "      <th>50%</th>\n",
              "      <td>26.050000</td>\n",
              "      <td>2005.500000</td>\n",
              "    </tr>\n",
              "    <tr>\n",
              "      <th>75%</th>\n",
              "      <td>27.600000</td>\n",
              "      <td>2013.000000</td>\n",
              "    </tr>\n",
              "    <tr>\n",
              "      <th>max</th>\n",
              "      <td>31.100000</td>\n",
              "      <td>2020.000000</td>\n",
              "    </tr>\n",
              "  </tbody>\n",
              "</table>\n",
              "</div>"
            ],
            "text/plain": [
              "       Temperature - (Celsius)         Year\n",
              "count               360.000000   360.000000\n",
              "mean                 24.681667  2005.500000\n",
              "std                   4.182854     8.667488\n",
              "min                  16.300000  1991.000000\n",
              "25%                  21.100000  1998.000000\n",
              "50%                  26.050000  2005.500000\n",
              "75%                  27.600000  2013.000000\n",
              "max                  31.100000  2020.000000"
            ]
          },
          "metadata": {
            "tags": []
          },
          "execution_count": 29
        }
      ]
    },
    {
      "cell_type": "code",
      "metadata": {
        "colab": {
          "base_uri": "https://localhost:8080/",
          "height": 211
        },
        "id": "wCQUEk_6qi8p",
        "outputId": "b165ba48-1419-4b58-919c-9c47ec7d3480"
      },
      "source": [
        "fig = plt.figure(figsize = (10, 3))\n",
        "plt.plot(india_df[' Year'], india_df['Temperature - (Celsius)'])\n",
        "plt.show()"
      ],
      "execution_count": null,
      "outputs": [
        {
          "output_type": "display_data",
          "data": {
            "image/png": "[encoded data removed]",
            "text/plain": [
              "<Figure size 720x216 with 1 Axes>"
            ]
          },
          "metadata": {
            "tags": [],
            "needs_background": "light"
          }
        }
      ]
    },
    {
      "cell_type": "code",
      "metadata": {
        "colab": {
          "base_uri": "https://localhost:8080/",
          "height": 311
        },
        "id": "Rw8UNfenqzwc",
        "outputId": "10d7a22c-f9d1-456f-ef6d-4d5e75a0109c"
      },
      "source": [
        "fig = plt.figure(figsize = (10, 3))\n",
        "axes = fig.add_axes([0, 0, 1, 1])\n",
        "axes.plot(india_df['Temperature - (Celsius)'], data = india_df, color = 'y')\n",
        "axes.plot(india_df[' Year'], data = india_df, color = 'r')\n",
        "axes.plot(india_df[' Statistics'], data = india_df, color = 'b')\n",
        "axes.set_title('Line Plot visualization of multivariate time series')\n",
        "axes.set_xlabel('Row no')\n",
        "axes.set_ylabel('Val')"
      ],
      "execution_count": null,
      "outputs": [
        {
          "output_type": "execute_result",
          "data": {
            "text/plain": [
              "Text(0, 0.5, 'Val')"
            ]
          },
          "metadata": {
            "tags": []
          },
          "execution_count": 31
        },
        {
          "output_type": "display_data",
          "data": {
            "image/png": "[encoded data removed]",
            "text/plain": [
              "<Figure size 720x216 with 1 Axes>"
            ]
          },
          "metadata": {
            "tags": [],
            "needs_background": "light"
          }
        }
      ]
    },
    {
      "cell_type": "code",
      "metadata": {
        "colab": {
          "base_uri": "https://localhost:8080/",
          "height": 279
        },
        "id": "mn-6g5-3q100",
        "outputId": "fabb8083-75ca-4b29-babb-368e42e22250"
      },
      "source": [
        "india_df.head().plot.bar()"
      ],
      "execution_count": null,
      "outputs": [
        {
          "output_type": "execute_result",
          "data": {
            "text/plain": [
              "<matplotlib.axes._subplots.AxesSubplot at 0x7fec2c2b2bd0>"
            ]
          },
          "metadata": {
            "tags": []
          },
          "execution_count": 32
        },
        {
          "output_type": "display_data",
          "data": {
            "image/png": "[encoded data removed]",
            "text/plain": [
              "<Figure size 432x288 with 1 Axes>"
            ]
          },
          "metadata": {
            "tags": [],
            "needs_background": "light"
          }
        }
      ]
    },
    {
      "cell_type": "code",
      "metadata": {
        "colab": {
          "base_uri": "https://localhost:8080/",
          "height": 296
        },
        "id": "y6AK_KulrQ5A",
        "outputId": "16fd5fbd-c15f-4cb6-a6b1-53bb7fe53513"
      },
      "source": [
        "india_df.plot(x=' Statistics',y='Temperature - (Celsius)')"
      ],
      "execution_count": null,
      "outputs": [
        {
          "output_type": "execute_result",
          "data": {
            "text/plain": [
              "<matplotlib.axes._subplots.AxesSubplot at 0x7fec2c2142d0>"
            ]
          },
          "metadata": {
            "tags": []
          },
          "execution_count": 33
        },
        {
          "output_type": "display_data",
          "data": {
            "image/png": "[encoded data removed]",
            "text/plain": [
              "<Figure size 432x288 with 1 Axes>"
            ]
          },
          "metadata": {
            "tags": [],
            "needs_background": "light"
          }
        }
      ]
    },
    {
      "cell_type": "markdown",
      "metadata": {
        "id": "k5nuVQhorl3z"
      },
      "source": [
        "# BEFORE COVID"
      ]
    },
    {
      "cell_type": "code",
      "metadata": {
        "id": "3jRkBBjprZwy"
      },
      "source": [
        "india_df[' Year'] = india_df[' Year'].astype(int)"
      ],
      "execution_count": null,
      "outputs": []
    },
    {
      "cell_type": "code",
      "metadata": {
        "colab": {
          "base_uri": "https://localhost:8080/",
          "height": 402
        },
        "id": "kRNZw0VMr6Qf",
        "outputId": "c6c10696-624a-4835-f261-392e68a54a9a"
      },
      "source": [
        "newinddf = india_df[india_df[' Year']== 2019]\n",
        "newinddf"
      ],
      "execution_count": null,
      "outputs": [
        {
          "output_type": "execute_result",
          "data": {
            "text/html": [
              "<div>\n",
              "<style scoped>\n",
              "    .dataframe tbody tr th:only-of-type {\n",
              "        vertical-align: middle;\n",
              "    }\n",
              "\n",
              "    .dataframe tbody tr th {\n",
              "        vertical-align: top;\n",
              "    }\n",
              "\n",
              "    .dataframe thead th {\n",
              "        text-align: right;\n",
              "    }\n",
              "</style>\n",
              "<table border=\"1\" class=\"dataframe\">\n",
              "  <thead>\n",
              "    <tr style=\"text-align: right;\">\n",
              "      <th></th>\n",
              "      <th>Temperature - (Celsius)</th>\n",
              "      <th>Year</th>\n",
              "      <th>Statistics</th>\n",
              "      <th>Country</th>\n",
              "      <th>ISO3</th>\n",
              "    </tr>\n",
              "  </thead>\n",
              "  <tbody>\n",
              "    <tr>\n",
              "      <th>336</th>\n",
              "      <td>17.2</td>\n",
              "      <td>2019</td>\n",
              "      <td>Jan Average</td>\n",
              "      <td>India</td>\n",
              "      <td>IND</td>\n",
              "    </tr>\n",
              "    <tr>\n",
              "      <th>337</th>\n",
              "      <td>19.8</td>\n",
              "      <td>2019</td>\n",
              "      <td>Feb Average</td>\n",
              "      <td>India</td>\n",
              "      <td>IND</td>\n",
              "    </tr>\n",
              "    <tr>\n",
              "      <th>338</th>\n",
              "      <td>23.9</td>\n",
              "      <td>2019</td>\n",
              "      <td>Mar Average</td>\n",
              "      <td>India</td>\n",
              "      <td>IND</td>\n",
              "    </tr>\n",
              "    <tr>\n",
              "      <th>339</th>\n",
              "      <td>28.9</td>\n",
              "      <td>2019</td>\n",
              "      <td>Apr Average</td>\n",
              "      <td>India</td>\n",
              "      <td>IND</td>\n",
              "    </tr>\n",
              "    <tr>\n",
              "      <th>340</th>\n",
              "      <td>30.6</td>\n",
              "      <td>2019</td>\n",
              "      <td>May Average</td>\n",
              "      <td>India</td>\n",
              "      <td>IND</td>\n",
              "    </tr>\n",
              "    <tr>\n",
              "      <th>341</th>\n",
              "      <td>30.7</td>\n",
              "      <td>2019</td>\n",
              "      <td>Jun Average</td>\n",
              "      <td>India</td>\n",
              "      <td>IND</td>\n",
              "    </tr>\n",
              "    <tr>\n",
              "      <th>342</th>\n",
              "      <td>27.9</td>\n",
              "      <td>2019</td>\n",
              "      <td>Jul Average</td>\n",
              "      <td>India</td>\n",
              "      <td>IND</td>\n",
              "    </tr>\n",
              "    <tr>\n",
              "      <th>343</th>\n",
              "      <td>26.9</td>\n",
              "      <td>2019</td>\n",
              "      <td>Aug Average</td>\n",
              "      <td>India</td>\n",
              "      <td>IND</td>\n",
              "    </tr>\n",
              "    <tr>\n",
              "      <th>344</th>\n",
              "      <td>26.7</td>\n",
              "      <td>2019</td>\n",
              "      <td>Sep Average</td>\n",
              "      <td>India</td>\n",
              "      <td>IND</td>\n",
              "    </tr>\n",
              "    <tr>\n",
              "      <th>345</th>\n",
              "      <td>25.0</td>\n",
              "      <td>2019</td>\n",
              "      <td>Oct Average</td>\n",
              "      <td>India</td>\n",
              "      <td>IND</td>\n",
              "    </tr>\n",
              "    <tr>\n",
              "      <th>346</th>\n",
              "      <td>22.2</td>\n",
              "      <td>2019</td>\n",
              "      <td>Nov Average</td>\n",
              "      <td>India</td>\n",
              "      <td>IND</td>\n",
              "    </tr>\n",
              "    <tr>\n",
              "      <th>347</th>\n",
              "      <td>17.7</td>\n",
              "      <td>2019</td>\n",
              "      <td>Dec Average</td>\n",
              "      <td>India</td>\n",
              "      <td>IND</td>\n",
              "    </tr>\n",
              "  </tbody>\n",
              "</table>\n",
              "</div>"
            ],
            "text/plain": [
              "     Temperature - (Celsius)   Year    Statistics  Country  ISO3\n",
              "336                     17.2   2019   Jan Average    India   IND\n",
              "337                     19.8   2019   Feb Average    India   IND\n",
              "338                     23.9   2019   Mar Average    India   IND\n",
              "339                     28.9   2019   Apr Average    India   IND\n",
              "340                     30.6   2019   May Average    India   IND\n",
              "341                     30.7   2019   Jun Average    India   IND\n",
              "342                     27.9   2019   Jul Average    India   IND\n",
              "343                     26.9   2019   Aug Average    India   IND\n",
              "344                     26.7   2019   Sep Average    India   IND\n",
              "345                     25.0   2019   Oct Average    India   IND\n",
              "346                     22.2   2019   Nov Average    India   IND\n",
              "347                     17.7   2019   Dec Average    India   IND"
            ]
          },
          "metadata": {
            "tags": []
          },
          "execution_count": 35
        }
      ]
    },
    {
      "cell_type": "code",
      "metadata": {
        "colab": {
          "base_uri": "https://localhost:8080/",
          "height": 296
        },
        "id": "nY-b-1Mtr_fI",
        "outputId": "4efea876-2fc6-4e08-f0b7-dbc358a29ca9"
      },
      "source": [
        "newinddf.plot(x=' Statistics',y='Temperature - (Celsius)')"
      ],
      "execution_count": null,
      "outputs": [
        {
          "output_type": "execute_result",
          "data": {
            "text/plain": [
              "<matplotlib.axes._subplots.AxesSubplot at 0x7fec2c119b50>"
            ]
          },
          "metadata": {
            "tags": []
          },
          "execution_count": 36
        },
        {
          "output_type": "display_data",
          "data": {
            "image/png": "[encoded data removed]",
            "text/plain": [
              "<Figure size 432x288 with 1 Axes>"
            ]
          },
          "metadata": {
            "tags": [],
            "needs_background": "light"
          }
        }
      ]
    },
    {
      "cell_type": "markdown",
      "metadata": {
        "id": "tJP0KNLQsKnm"
      },
      "source": [
        "# AFTER COVID"
      ]
    },
    {
      "cell_type": "code",
      "metadata": {
        "colab": {
          "base_uri": "https://localhost:8080/",
          "height": 402
        },
        "id": "6ekzspKFsNkH",
        "outputId": "84a7ad31-8848-4956-b55c-ae7868f12ee9"
      },
      "source": [
        "newincovidf = india_df[india_df[' Year']== 2020]\n",
        "newincovidf"
      ],
      "execution_count": null,
      "outputs": [
        {
          "output_type": "execute_result",
          "data": {
            "text/html": [
              "<div>\n",
              "<style scoped>\n",
              "    .dataframe tbody tr th:only-of-type {\n",
              "        vertical-align: middle;\n",
              "    }\n",
              "\n",
              "    .dataframe tbody tr th {\n",
              "        vertical-align: top;\n",
              "    }\n",
              "\n",
              "    .dataframe thead th {\n",
              "        text-align: right;\n",
              "    }\n",
              "</style>\n",
              "<table border=\"1\" class=\"dataframe\">\n",
              "  <thead>\n",
              "    <tr style=\"text-align: right;\">\n",
              "      <th></th>\n",
              "      <th>Temperature - (Celsius)</th>\n",
              "      <th>Year</th>\n",
              "      <th>Statistics</th>\n",
              "      <th>Country</th>\n",
              "      <th>ISO3</th>\n",
              "    </tr>\n",
              "  </thead>\n",
              "  <tbody>\n",
              "    <tr>\n",
              "      <th>348</th>\n",
              "      <td>17.0</td>\n",
              "      <td>2020</td>\n",
              "      <td>Jan Average</td>\n",
              "      <td>India</td>\n",
              "      <td>IND</td>\n",
              "    </tr>\n",
              "    <tr>\n",
              "      <th>349</th>\n",
              "      <td>20.1</td>\n",
              "      <td>2020</td>\n",
              "      <td>Feb Average</td>\n",
              "      <td>India</td>\n",
              "      <td>IND</td>\n",
              "    </tr>\n",
              "    <tr>\n",
              "      <th>350</th>\n",
              "      <td>23.6</td>\n",
              "      <td>2020</td>\n",
              "      <td>Mar Average</td>\n",
              "      <td>India</td>\n",
              "      <td>IND</td>\n",
              "    </tr>\n",
              "    <tr>\n",
              "      <th>351</th>\n",
              "      <td>27.9</td>\n",
              "      <td>2020</td>\n",
              "      <td>Apr Average</td>\n",
              "      <td>India</td>\n",
              "      <td>IND</td>\n",
              "    </tr>\n",
              "    <tr>\n",
              "      <th>352</th>\n",
              "      <td>30.2</td>\n",
              "      <td>2020</td>\n",
              "      <td>May Average</td>\n",
              "      <td>India</td>\n",
              "      <td>IND</td>\n",
              "    </tr>\n",
              "    <tr>\n",
              "      <th>353</th>\n",
              "      <td>29.0</td>\n",
              "      <td>2020</td>\n",
              "      <td>Jun Average</td>\n",
              "      <td>India</td>\n",
              "      <td>IND</td>\n",
              "    </tr>\n",
              "    <tr>\n",
              "      <th>354</th>\n",
              "      <td>28.0</td>\n",
              "      <td>2020</td>\n",
              "      <td>Jul Average</td>\n",
              "      <td>India</td>\n",
              "      <td>IND</td>\n",
              "    </tr>\n",
              "    <tr>\n",
              "      <th>355</th>\n",
              "      <td>27.0</td>\n",
              "      <td>2020</td>\n",
              "      <td>Aug Average</td>\n",
              "      <td>India</td>\n",
              "      <td>IND</td>\n",
              "    </tr>\n",
              "    <tr>\n",
              "      <th>356</th>\n",
              "      <td>27.3</td>\n",
              "      <td>2020</td>\n",
              "      <td>Sep Average</td>\n",
              "      <td>India</td>\n",
              "      <td>IND</td>\n",
              "    </tr>\n",
              "    <tr>\n",
              "      <th>357</th>\n",
              "      <td>25.9</td>\n",
              "      <td>2020</td>\n",
              "      <td>Oct Average</td>\n",
              "      <td>India</td>\n",
              "      <td>IND</td>\n",
              "    </tr>\n",
              "    <tr>\n",
              "      <th>358</th>\n",
              "      <td>21.4</td>\n",
              "      <td>2020</td>\n",
              "      <td>Nov Average</td>\n",
              "      <td>India</td>\n",
              "      <td>IND</td>\n",
              "    </tr>\n",
              "    <tr>\n",
              "      <th>359</th>\n",
              "      <td>18.4</td>\n",
              "      <td>2020</td>\n",
              "      <td>Dec Average</td>\n",
              "      <td>India</td>\n",
              "      <td>IND</td>\n",
              "    </tr>\n",
              "  </tbody>\n",
              "</table>\n",
              "</div>"
            ],
            "text/plain": [
              "     Temperature - (Celsius)   Year    Statistics  Country  ISO3\n",
              "348                     17.0   2020   Jan Average    India   IND\n",
              "349                     20.1   2020   Feb Average    India   IND\n",
              "350                     23.6   2020   Mar Average    India   IND\n",
              "351                     27.9   2020   Apr Average    India   IND\n",
              "352                     30.2   2020   May Average    India   IND\n",
              "353                     29.0   2020   Jun Average    India   IND\n",
              "354                     28.0   2020   Jul Average    India   IND\n",
              "355                     27.0   2020   Aug Average    India   IND\n",
              "356                     27.3   2020   Sep Average    India   IND\n",
              "357                     25.9   2020   Oct Average    India   IND\n",
              "358                     21.4   2020   Nov Average    India   IND\n",
              "359                     18.4   2020   Dec Average    India   IND"
            ]
          },
          "metadata": {
            "tags": []
          },
          "execution_count": 37
        }
      ]
    },
    {
      "cell_type": "code",
      "metadata": {
        "colab": {
          "base_uri": "https://localhost:8080/",
          "height": 296
        },
        "id": "StvYKFposWu5",
        "outputId": "ab536ac5-e3a9-4e8f-a96b-90d98ba3d7eb"
      },
      "source": [
        "newincovidf.plot(x=' Statistics',y='Temperature - (Celsius)')"
      ],
      "execution_count": null,
      "outputs": [
        {
          "output_type": "execute_result",
          "data": {
            "text/plain": [
              "<matplotlib.axes._subplots.AxesSubplot at 0x7fec2c817410>"
            ]
          },
          "metadata": {
            "tags": []
          },
          "execution_count": 38
        },
        {
          "output_type": "display_data",
          "data": {
            "image/png": "[encoded data removed]",
            "text/plain": [
              "<Figure size 432x288 with 1 Axes>"
            ]
          },
          "metadata": {
            "tags": [],
            "needs_background": "light"
          }
        }
      ]
    }
  ]
}